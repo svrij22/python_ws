{
 "cells": [
  {
   "cell_type": "code",
   "execution_count": 316,
   "metadata": {},
   "outputs": [],
   "source": [
    "import pandas as pd\n",
    "import numpy as np\n",
    "from sklearn.preprocessing import StandardScaler\n",
    "from sklearn.compose import make_column_transformer\n",
    "from scipy.spatial.distance import cdist"
   ]
  },
  {
   "attachments": {},
   "cell_type": "markdown",
   "metadata": {},
   "source": [
    "Put all csv's in a list so they can later be merged."
   ]
  },
  {
   "cell_type": "code",
   "execution_count": 317,
   "metadata": {},
   "outputs": [
    {
     "name": "stdout",
     "output_type": "stream",
     "text": [
      "The length of dataframe 0 is 1746\n",
      "The length of dataframe 1 is 1746\n",
      "The length of dataframe 2 is 3492\n",
      "The length of dataframe 3 is 3492\n",
      "The total length of all the dataframes is: 10476\n"
     ]
    }
   ],
   "source": [
    "partial_df_list = [\n",
    "    pd.read_csv(\"data/icu_data_28.csv\"),\n",
    "    pd.read_csv(\"data/icu_data_33.csv\"),\n",
    "    pd.read_csv(\"data/icu_data_38_43.csv\"),\n",
    "    pd.read_csv(\"data/icu_data_48_53.csv\"),\n",
    "]\n",
    "\n",
    "full_df_length = 0\n",
    "\n",
    "for num, partial_df in enumerate(partial_df_list):\n",
    "    print(f\"The length of dataframe {num} is {len(partial_df)}\")\n",
    "    full_df_length += len(partial_df)\n",
    "\n",
    "print(\"The total length of all the dataframes is:\", full_df_length)"
   ]
  },
  {
   "attachments": {},
   "cell_type": "markdown",
   "metadata": {},
   "source": [
    "Create a dataframe with the partial dataframes."
   ]
  },
  {
   "cell_type": "code",
   "execution_count": 318,
   "metadata": {},
   "outputs": [
    {
     "data": {
      "text/html": [
       "<div>\n",
       "<style scoped>\n",
       "    .dataframe tbody tr th:only-of-type {\n",
       "        vertical-align: middle;\n",
       "    }\n",
       "\n",
       "    .dataframe tbody tr th {\n",
       "        vertical-align: top;\n",
       "    }\n",
       "\n",
       "    .dataframe thead th {\n",
       "        text-align: right;\n",
       "    }\n",
       "</style>\n",
       "<table border=\"1\" class=\"dataframe\">\n",
       "  <thead>\n",
       "    <tr style=\"text-align: right;\">\n",
       "      <th></th>\n",
       "      <th>Unnamed: 0</th>\n",
       "      <th>distribution</th>\n",
       "      <th>bed_amount</th>\n",
       "      <th>denied</th>\n",
       "      <th>covid_denied</th>\n",
       "      <th>waiting_time</th>\n",
       "      <th>occupancy</th>\n",
       "      <th>admissioned</th>\n",
       "      <th>failed_reschedules</th>\n",
       "      <th>succesful_reschedules</th>\n",
       "    </tr>\n",
       "  </thead>\n",
       "  <tbody>\n",
       "    <tr>\n",
       "      <th>0</th>\n",
       "      <td>0</td>\n",
       "      <td>[4, 4, 4, 9, 7]</td>\n",
       "      <td>28</td>\n",
       "      <td>1538</td>\n",
       "      <td>59</td>\n",
       "      <td>104382</td>\n",
       "      <td>63.485812</td>\n",
       "      <td>3213</td>\n",
       "      <td>8</td>\n",
       "      <td>969</td>\n",
       "    </tr>\n",
       "    <tr>\n",
       "      <th>1</th>\n",
       "      <td>1</td>\n",
       "      <td>[4, 4, 4, 10, 6]</td>\n",
       "      <td>28</td>\n",
       "      <td>1623</td>\n",
       "      <td>74</td>\n",
       "      <td>102990</td>\n",
       "      <td>61.607143</td>\n",
       "      <td>3049</td>\n",
       "      <td>31</td>\n",
       "      <td>852</td>\n",
       "    </tr>\n",
       "    <tr>\n",
       "      <th>2</th>\n",
       "      <td>2</td>\n",
       "      <td>[4, 4, 4, 11, 5]</td>\n",
       "      <td>28</td>\n",
       "      <td>1619</td>\n",
       "      <td>130</td>\n",
       "      <td>100212</td>\n",
       "      <td>62.344667</td>\n",
       "      <td>3140</td>\n",
       "      <td>23</td>\n",
       "      <td>875</td>\n",
       "    </tr>\n",
       "    <tr>\n",
       "      <th>3</th>\n",
       "      <td>3</td>\n",
       "      <td>[4, 4, 4, 12, 4]</td>\n",
       "      <td>28</td>\n",
       "      <td>1638</td>\n",
       "      <td>207</td>\n",
       "      <td>84762</td>\n",
       "      <td>60.490460</td>\n",
       "      <td>2954</td>\n",
       "      <td>40</td>\n",
       "      <td>735</td>\n",
       "    </tr>\n",
       "    <tr>\n",
       "      <th>4</th>\n",
       "      <td>4</td>\n",
       "      <td>[4, 4, 4, 13, 3]</td>\n",
       "      <td>28</td>\n",
       "      <td>1575</td>\n",
       "      <td>237</td>\n",
       "      <td>109320</td>\n",
       "      <td>57.014432</td>\n",
       "      <td>3052</td>\n",
       "      <td>32</td>\n",
       "      <td>858</td>\n",
       "    </tr>\n",
       "  </tbody>\n",
       "</table>\n",
       "</div>"
      ],
      "text/plain": [
       "   Unnamed: 0      distribution  bed_amount  denied  covid_denied  \\\n",
       "0           0   [4, 4, 4, 9, 7]          28    1538            59   \n",
       "1           1  [4, 4, 4, 10, 6]          28    1623            74   \n",
       "2           2  [4, 4, 4, 11, 5]          28    1619           130   \n",
       "3           3  [4, 4, 4, 12, 4]          28    1638           207   \n",
       "4           4  [4, 4, 4, 13, 3]          28    1575           237   \n",
       "\n",
       "   waiting_time  occupancy  admissioned  failed_reschedules  \\\n",
       "0        104382  63.485812         3213                   8   \n",
       "1        102990  61.607143         3049                  31   \n",
       "2        100212  62.344667         3140                  23   \n",
       "3         84762  60.490460         2954                  40   \n",
       "4        109320  57.014432         3052                  32   \n",
       "\n",
       "   succesful_reschedules  \n",
       "0                    969  \n",
       "1                    852  \n",
       "2                    875  \n",
       "3                    735  \n",
       "4                    858  "
      ]
     },
     "execution_count": 318,
     "metadata": {},
     "output_type": "execute_result"
    }
   ],
   "source": [
    "full_df = pd.concat(partial_df_list)\n",
    "full_df.head(5)"
   ]
  },
  {
   "attachments": {},
   "cell_type": "markdown",
   "metadata": {},
   "source": [
    "The first column in the csv is the index column which is not relevant as we do not need to look at specific rows."
   ]
  },
  {
   "cell_type": "code",
   "execution_count": 319,
   "metadata": {},
   "outputs": [
    {
     "data": {
      "text/html": [
       "<div>\n",
       "<style scoped>\n",
       "    .dataframe tbody tr th:only-of-type {\n",
       "        vertical-align: middle;\n",
       "    }\n",
       "\n",
       "    .dataframe tbody tr th {\n",
       "        vertical-align: top;\n",
       "    }\n",
       "\n",
       "    .dataframe thead th {\n",
       "        text-align: right;\n",
       "    }\n",
       "</style>\n",
       "<table border=\"1\" class=\"dataframe\">\n",
       "  <thead>\n",
       "    <tr style=\"text-align: right;\">\n",
       "      <th></th>\n",
       "      <th>distribution</th>\n",
       "      <th>bed_amount</th>\n",
       "      <th>denied</th>\n",
       "      <th>covid_denied</th>\n",
       "      <th>waiting_time</th>\n",
       "      <th>occupancy</th>\n",
       "      <th>admissioned</th>\n",
       "      <th>failed_reschedules</th>\n",
       "      <th>succesful_reschedules</th>\n",
       "    </tr>\n",
       "  </thead>\n",
       "  <tbody>\n",
       "    <tr>\n",
       "      <th>0</th>\n",
       "      <td>[4, 4, 4, 9, 7]</td>\n",
       "      <td>28</td>\n",
       "      <td>1538</td>\n",
       "      <td>59</td>\n",
       "      <td>104382</td>\n",
       "      <td>63.485812</td>\n",
       "      <td>3213</td>\n",
       "      <td>8</td>\n",
       "      <td>969</td>\n",
       "    </tr>\n",
       "    <tr>\n",
       "      <th>1</th>\n",
       "      <td>[4, 4, 4, 10, 6]</td>\n",
       "      <td>28</td>\n",
       "      <td>1623</td>\n",
       "      <td>74</td>\n",
       "      <td>102990</td>\n",
       "      <td>61.607143</td>\n",
       "      <td>3049</td>\n",
       "      <td>31</td>\n",
       "      <td>852</td>\n",
       "    </tr>\n",
       "    <tr>\n",
       "      <th>2</th>\n",
       "      <td>[4, 4, 4, 11, 5]</td>\n",
       "      <td>28</td>\n",
       "      <td>1619</td>\n",
       "      <td>130</td>\n",
       "      <td>100212</td>\n",
       "      <td>62.344667</td>\n",
       "      <td>3140</td>\n",
       "      <td>23</td>\n",
       "      <td>875</td>\n",
       "    </tr>\n",
       "    <tr>\n",
       "      <th>3</th>\n",
       "      <td>[4, 4, 4, 12, 4]</td>\n",
       "      <td>28</td>\n",
       "      <td>1638</td>\n",
       "      <td>207</td>\n",
       "      <td>84762</td>\n",
       "      <td>60.490460</td>\n",
       "      <td>2954</td>\n",
       "      <td>40</td>\n",
       "      <td>735</td>\n",
       "    </tr>\n",
       "    <tr>\n",
       "      <th>4</th>\n",
       "      <td>[4, 4, 4, 13, 3]</td>\n",
       "      <td>28</td>\n",
       "      <td>1575</td>\n",
       "      <td>237</td>\n",
       "      <td>109320</td>\n",
       "      <td>57.014432</td>\n",
       "      <td>3052</td>\n",
       "      <td>32</td>\n",
       "      <td>858</td>\n",
       "    </tr>\n",
       "  </tbody>\n",
       "</table>\n",
       "</div>"
      ],
      "text/plain": [
       "       distribution  bed_amount  denied  covid_denied  waiting_time  \\\n",
       "0   [4, 4, 4, 9, 7]          28    1538            59        104382   \n",
       "1  [4, 4, 4, 10, 6]          28    1623            74        102990   \n",
       "2  [4, 4, 4, 11, 5]          28    1619           130        100212   \n",
       "3  [4, 4, 4, 12, 4]          28    1638           207         84762   \n",
       "4  [4, 4, 4, 13, 3]          28    1575           237        109320   \n",
       "\n",
       "   occupancy  admissioned  failed_reschedules  succesful_reschedules  \n",
       "0  63.485812         3213                   8                    969  \n",
       "1  61.607143         3049                  31                    852  \n",
       "2  62.344667         3140                  23                    875  \n",
       "3  60.490460         2954                  40                    735  \n",
       "4  57.014432         3052                  32                    858  "
      ]
     },
     "execution_count": 319,
     "metadata": {},
     "output_type": "execute_result"
    }
   ],
   "source": [
    "full_df.drop(columns=\"Unnamed: 0\", inplace=True)\n",
    "full_df.head()"
   ]
  },
  {
   "attachments": {},
   "cell_type": "markdown",
   "metadata": {},
   "source": [
    "Let's check if all rows are successfully merged."
   ]
  },
  {
   "cell_type": "code",
   "execution_count": 320,
   "metadata": {},
   "outputs": [
    {
     "name": "stdout",
     "output_type": "stream",
     "text": [
      "The length of the new df is equal to the total amount of rows in all datasets: True\n"
     ]
    }
   ],
   "source": [
    "print(f\"The length of the new df is equal to the total amount of rows in all datasets: {len(full_df) == full_df_length}\")"
   ]
  },
  {
   "attachments": {},
   "cell_type": "markdown",
   "metadata": {},
   "source": [
    "There are some oddities in the dataset. First of all, the column `bed_amount` contains a list which a single value but \n",
    "the column should only contain integers so we should remove the brackets and turn the column into an integer. The \n",
    "brackets are removed using `replace()` and the very confusing regular expression `[\\[\\]]`. The latter consists out of\n",
    "two parts: the enclosing brackets `[]` and what's within `\\[\\]`. The enclosing brackets means to select either one of \n",
    "the characters between them which we want to be `[` and `]` but they are already regex syntax so we have to escape them\n",
    "using `\\`."
   ]
  },
  {
   "cell_type": "code",
   "execution_count": 321,
   "metadata": {},
   "outputs": [
    {
     "name": "stdout",
     "output_type": "stream",
     "text": [
      "The datatype of bed_amount is: int64\n"
     ]
    },
    {
     "data": {
      "text/plain": [
       "0    28\n",
       "1    28\n",
       "2    28\n",
       "3    28\n",
       "4    28\n",
       "Name: bed_amount, dtype: int64"
      ]
     },
     "execution_count": 321,
     "metadata": {},
     "output_type": "execute_result"
    }
   ],
   "source": [
    "full_df[\"bed_amount\"].replace(r\"[\\[\\]]\", \"\", regex=True, inplace=True)\n",
    "full_df[\"bed_amount\"] = full_df[\"bed_amount\"].astype(int)\n",
    "\n",
    "print(\"The datatype of bed_amount is:\", full_df[\"bed_amount\"].dtype)\n",
    "\n",
    "full_df[\"bed_amount\"].head(5)"
   ]
  },
  {
   "attachments": {},
   "cell_type": "markdown",
   "metadata": {},
   "source": [
    "Next is the `distribution` column which consists of a list with integers that correspond with the amount of beds \n",
    "dedicated to certain specialisms. The order is as following:"
   ]
  },
  {
   "cell_type": "code",
   "execution_count": 322,
   "metadata": {},
   "outputs": [
    {
     "data": {
      "text/plain": [
       "['CARD/INT/OTHER', 'NEU/NEC', 'CAPU', 'CHIR', 'COV']"
      ]
     },
     "execution_count": 322,
     "metadata": {},
     "output_type": "execute_result"
    }
   ],
   "source": [
    "specs = [\"CARD/INT/OTHER\", \"NEU/NEC\", \"CAPU\", \"CHIR\", \"COV\"]\n",
    "specs"
   ]
  },
  {
   "attachments": {},
   "cell_type": "markdown",
   "metadata": {},
   "source": [
    "We can turn this column into the 5 columns. The column `distribution` is seen as a string so we need to turn it into a\n",
    "list again. We do that by removing the brackets, splitting the string into a list using `split(\",\")` and then creating\n",
    "5 new columns using these lists. After that the columns need to be converted from strings to ints."
   ]
  },
  {
   "cell_type": "code",
   "execution_count": 323,
   "metadata": {},
   "outputs": [
    {
     "data": {
      "text/html": [
       "<div>\n",
       "<style scoped>\n",
       "    .dataframe tbody tr th:only-of-type {\n",
       "        vertical-align: middle;\n",
       "    }\n",
       "\n",
       "    .dataframe tbody tr th {\n",
       "        vertical-align: top;\n",
       "    }\n",
       "\n",
       "    .dataframe thead th {\n",
       "        text-align: right;\n",
       "    }\n",
       "</style>\n",
       "<table border=\"1\" class=\"dataframe\">\n",
       "  <thead>\n",
       "    <tr style=\"text-align: right;\">\n",
       "      <th></th>\n",
       "      <th>bed_amount</th>\n",
       "      <th>denied</th>\n",
       "      <th>covid_denied</th>\n",
       "      <th>waiting_time</th>\n",
       "      <th>occupancy</th>\n",
       "      <th>admissioned</th>\n",
       "      <th>failed_reschedules</th>\n",
       "      <th>succesful_reschedules</th>\n",
       "      <th>CARD/INT/OTHER</th>\n",
       "      <th>NEU/NEC</th>\n",
       "      <th>CAPU</th>\n",
       "      <th>CHIR</th>\n",
       "      <th>COV</th>\n",
       "    </tr>\n",
       "  </thead>\n",
       "  <tbody>\n",
       "    <tr>\n",
       "      <th>0</th>\n",
       "      <td>28</td>\n",
       "      <td>1538</td>\n",
       "      <td>59</td>\n",
       "      <td>104382</td>\n",
       "      <td>63.485812</td>\n",
       "      <td>3213</td>\n",
       "      <td>8</td>\n",
       "      <td>969</td>\n",
       "      <td>4</td>\n",
       "      <td>4</td>\n",
       "      <td>4</td>\n",
       "      <td>9</td>\n",
       "      <td>7</td>\n",
       "    </tr>\n",
       "    <tr>\n",
       "      <th>1</th>\n",
       "      <td>28</td>\n",
       "      <td>1623</td>\n",
       "      <td>74</td>\n",
       "      <td>102990</td>\n",
       "      <td>61.607143</td>\n",
       "      <td>3049</td>\n",
       "      <td>31</td>\n",
       "      <td>852</td>\n",
       "      <td>4</td>\n",
       "      <td>4</td>\n",
       "      <td>4</td>\n",
       "      <td>10</td>\n",
       "      <td>6</td>\n",
       "    </tr>\n",
       "    <tr>\n",
       "      <th>2</th>\n",
       "      <td>28</td>\n",
       "      <td>1619</td>\n",
       "      <td>130</td>\n",
       "      <td>100212</td>\n",
       "      <td>62.344667</td>\n",
       "      <td>3140</td>\n",
       "      <td>23</td>\n",
       "      <td>875</td>\n",
       "      <td>4</td>\n",
       "      <td>4</td>\n",
       "      <td>4</td>\n",
       "      <td>11</td>\n",
       "      <td>5</td>\n",
       "    </tr>\n",
       "    <tr>\n",
       "      <th>3</th>\n",
       "      <td>28</td>\n",
       "      <td>1638</td>\n",
       "      <td>207</td>\n",
       "      <td>84762</td>\n",
       "      <td>60.490460</td>\n",
       "      <td>2954</td>\n",
       "      <td>40</td>\n",
       "      <td>735</td>\n",
       "      <td>4</td>\n",
       "      <td>4</td>\n",
       "      <td>4</td>\n",
       "      <td>12</td>\n",
       "      <td>4</td>\n",
       "    </tr>\n",
       "    <tr>\n",
       "      <th>4</th>\n",
       "      <td>28</td>\n",
       "      <td>1575</td>\n",
       "      <td>237</td>\n",
       "      <td>109320</td>\n",
       "      <td>57.014432</td>\n",
       "      <td>3052</td>\n",
       "      <td>32</td>\n",
       "      <td>858</td>\n",
       "      <td>4</td>\n",
       "      <td>4</td>\n",
       "      <td>4</td>\n",
       "      <td>13</td>\n",
       "      <td>3</td>\n",
       "    </tr>\n",
       "  </tbody>\n",
       "</table>\n",
       "</div>"
      ],
      "text/plain": [
       "   bed_amount  denied  covid_denied  waiting_time  occupancy  admissioned  \\\n",
       "0          28    1538            59        104382  63.485812         3213   \n",
       "1          28    1623            74        102990  61.607143         3049   \n",
       "2          28    1619           130        100212  62.344667         3140   \n",
       "3          28    1638           207         84762  60.490460         2954   \n",
       "4          28    1575           237        109320  57.014432         3052   \n",
       "\n",
       "   failed_reschedules  succesful_reschedules  CARD/INT/OTHER  NEU/NEC  CAPU  \\\n",
       "0                   8                    969               4        4     4   \n",
       "1                  31                    852               4        4     4   \n",
       "2                  23                    875               4        4     4   \n",
       "3                  40                    735               4        4     4   \n",
       "4                  32                    858               4        4     4   \n",
       "\n",
       "   CHIR  COV  \n",
       "0     9    7  \n",
       "1    10    6  \n",
       "2    11    5  \n",
       "3    12    4  \n",
       "4    13    3  "
      ]
     },
     "execution_count": 323,
     "metadata": {},
     "output_type": "execute_result"
    }
   ],
   "source": [
    "full_df[\"distribution\"].replace(r\"[\\[\\]]\", \"\", regex=True, inplace=True)\n",
    "full_df[specs] = full_df[\"distribution\"].apply(lambda x: x.split(\",\")[-5:]).tolist()\n",
    "full_df[specs] = full_df[specs].astype(int)\n",
    "full_df.drop(columns=\"distribution\", inplace=True)\n",
    "\n",
    "full_df.head()"
   ]
  },
  {
   "attachments": {},
   "cell_type": "markdown",
   "metadata": {},
   "source": [
    "We can now save this new dataframe into a csv file."
   ]
  },
  {
   "cell_type": "code",
   "execution_count": 324,
   "metadata": {},
   "outputs": [
    {
     "data": {
      "text/html": [
       "<div>\n",
       "<style scoped>\n",
       "    .dataframe tbody tr th:only-of-type {\n",
       "        vertical-align: middle;\n",
       "    }\n",
       "\n",
       "    .dataframe tbody tr th {\n",
       "        vertical-align: top;\n",
       "    }\n",
       "\n",
       "    .dataframe thead th {\n",
       "        text-align: right;\n",
       "    }\n",
       "</style>\n",
       "<table border=\"1\" class=\"dataframe\">\n",
       "  <thead>\n",
       "    <tr style=\"text-align: right;\">\n",
       "      <th></th>\n",
       "      <th>bed_amount</th>\n",
       "      <th>denied</th>\n",
       "      <th>covid_denied</th>\n",
       "      <th>waiting_time</th>\n",
       "      <th>occupancy</th>\n",
       "      <th>admissioned</th>\n",
       "      <th>failed_reschedules</th>\n",
       "      <th>succesful_reschedules</th>\n",
       "      <th>CARD/INT/OTHER</th>\n",
       "      <th>NEU/NEC</th>\n",
       "      <th>CAPU</th>\n",
       "      <th>CHIR</th>\n",
       "      <th>COV</th>\n",
       "    </tr>\n",
       "  </thead>\n",
       "  <tbody>\n",
       "  </tbody>\n",
       "</table>\n",
       "</div>"
      ],
      "text/plain": [
       "Empty DataFrame\n",
       "Columns: [bed_amount, denied, covid_denied, waiting_time, occupancy, admissioned, failed_reschedules, succesful_reschedules, CARD/INT/OTHER, NEU/NEC, CAPU, CHIR, COV]\n",
       "Index: []"
      ]
     },
     "execution_count": 324,
     "metadata": {},
     "output_type": "execute_result"
    }
   ],
   "source": [
    "full_df.to_csv(\"data/full_monte_carlo.csv\")\n",
    "full_df[(full_df.succesful_reschedules == 208) & (full_df.admissioned == 5465)]"
   ]
  },
  {
   "attachments": {},
   "cell_type": "markdown",
   "metadata": {},
   "source": [
    "We do not care about occupancy below `75%` so we can discard those rows."
   ]
  },
  {
   "cell_type": "code",
   "execution_count": 325,
   "metadata": {},
   "outputs": [
    {
     "name": "stdout",
     "output_type": "stream",
     "text": [
      "New length of full_df: 1085\n"
     ]
    }
   ],
   "source": [
    "full_df = full_df[full_df[\"occupancy\"] >= 75]\n",
    "full_df.head()\n",
    "print(\"New length of full_df:\", len(full_df))"
   ]
  },
  {
   "attachments": {},
   "cell_type": "markdown",
   "metadata": {},
   "source": [
    "This removes a large amount of rows. Let's focus on hte columns we want to min-max which are `denied`, \n",
    "`waiting_time`, `occupancy` and `failed_reschedules`."
   ]
  },
  {
   "cell_type": "code",
   "execution_count": 326,
   "metadata": {},
   "outputs": [],
   "source": [
    "min_max_columns = [\"denied\", \"waiting_time\", \"occupancy\", \"failed_reschedules\"]"
   ]
  },
  {
   "attachments": {},
   "cell_type": "markdown",
   "metadata": {},
   "source": [
    "Let's standardize these columns and display their distributions."
   ]
  },
  {
   "cell_type": "code",
   "execution_count": 327,
   "metadata": {},
   "outputs": [
    {
     "data": {
      "text/html": [
       "<div>\n",
       "<style scoped>\n",
       "    .dataframe tbody tr th:only-of-type {\n",
       "        vertical-align: middle;\n",
       "    }\n",
       "\n",
       "    .dataframe tbody tr th {\n",
       "        vertical-align: top;\n",
       "    }\n",
       "\n",
       "    .dataframe thead th {\n",
       "        text-align: right;\n",
       "    }\n",
       "</style>\n",
       "<table border=\"1\" class=\"dataframe\">\n",
       "  <thead>\n",
       "    <tr style=\"text-align: right;\">\n",
       "      <th></th>\n",
       "      <th>bed_amount</th>\n",
       "      <th>denied</th>\n",
       "      <th>covid_denied</th>\n",
       "      <th>waiting_time</th>\n",
       "      <th>occupancy</th>\n",
       "      <th>admissioned</th>\n",
       "      <th>failed_reschedules</th>\n",
       "      <th>succesful_reschedules</th>\n",
       "      <th>CARD/INT/OTHER</th>\n",
       "      <th>NEU/NEC</th>\n",
       "      <th>CAPU</th>\n",
       "      <th>CHIR</th>\n",
       "      <th>COV</th>\n",
       "    </tr>\n",
       "  </thead>\n",
       "  <tbody>\n",
       "    <tr>\n",
       "      <th>175</th>\n",
       "      <td>28</td>\n",
       "      <td>0.914290</td>\n",
       "      <td>128</td>\n",
       "      <td>-0.347864</td>\n",
       "      <td>0.287250</td>\n",
       "      <td>3568</td>\n",
       "      <td>2.593752</td>\n",
       "      <td>302</td>\n",
       "      <td>4</td>\n",
       "      <td>6</td>\n",
       "      <td>8</td>\n",
       "      <td>5</td>\n",
       "      <td>5</td>\n",
       "    </tr>\n",
       "    <tr>\n",
       "      <th>211</th>\n",
       "      <td>28</td>\n",
       "      <td>1.299847</td>\n",
       "      <td>56</td>\n",
       "      <td>0.574936</td>\n",
       "      <td>-1.053612</td>\n",
       "      <td>3388</td>\n",
       "      <td>0.667523</td>\n",
       "      <td>770</td>\n",
       "      <td>4</td>\n",
       "      <td>7</td>\n",
       "      <td>5</td>\n",
       "      <td>6</td>\n",
       "      <td>6</td>\n",
       "    </tr>\n",
       "    <tr>\n",
       "      <th>218</th>\n",
       "      <td>28</td>\n",
       "      <td>0.980766</td>\n",
       "      <td>32</td>\n",
       "      <td>-0.343273</td>\n",
       "      <td>-0.997373</td>\n",
       "      <td>3513</td>\n",
       "      <td>0.956457</td>\n",
       "      <td>474</td>\n",
       "      <td>4</td>\n",
       "      <td>7</td>\n",
       "      <td>6</td>\n",
       "      <td>4</td>\n",
       "      <td>7</td>\n",
       "    </tr>\n",
       "    <tr>\n",
       "      <th>219</th>\n",
       "      <td>28</td>\n",
       "      <td>0.550893</td>\n",
       "      <td>78</td>\n",
       "      <td>-0.694402</td>\n",
       "      <td>-1.012172</td>\n",
       "      <td>3514</td>\n",
       "      <td>0.378588</td>\n",
       "      <td>373</td>\n",
       "      <td>4</td>\n",
       "      <td>7</td>\n",
       "      <td>6</td>\n",
       "      <td>5</td>\n",
       "      <td>6</td>\n",
       "    </tr>\n",
       "    <tr>\n",
       "      <th>227</th>\n",
       "      <td>28</td>\n",
       "      <td>0.453396</td>\n",
       "      <td>131</td>\n",
       "      <td>-0.574355</td>\n",
       "      <td>-1.031412</td>\n",
       "      <td>3550</td>\n",
       "      <td>2.690063</td>\n",
       "      <td>224</td>\n",
       "      <td>4</td>\n",
       "      <td>7</td>\n",
       "      <td>7</td>\n",
       "      <td>5</td>\n",
       "      <td>5</td>\n",
       "    </tr>\n",
       "  </tbody>\n",
       "</table>\n",
       "</div>"
      ],
      "text/plain": [
       "     bed_amount    denied  covid_denied  waiting_time  occupancy  admissioned  \\\n",
       "175          28  0.914290           128     -0.347864   0.287250         3568   \n",
       "211          28  1.299847            56      0.574936  -1.053612         3388   \n",
       "218          28  0.980766            32     -0.343273  -0.997373         3513   \n",
       "219          28  0.550893            78     -0.694402  -1.012172         3514   \n",
       "227          28  0.453396           131     -0.574355  -1.031412         3550   \n",
       "\n",
       "     failed_reschedules  succesful_reschedules  CARD/INT/OTHER  NEU/NEC  CAPU  \\\n",
       "175            2.593752                    302               4        6     8   \n",
       "211            0.667523                    770               4        7     5   \n",
       "218            0.956457                    474               4        7     6   \n",
       "219            0.378588                    373               4        7     6   \n",
       "227            2.690063                    224               4        7     7   \n",
       "\n",
       "     CHIR  COV  \n",
       "175     5    5  \n",
       "211     6    6  \n",
       "218     4    7  \n",
       "219     5    6  \n",
       "227     5    5  "
      ]
     },
     "execution_count": 327,
     "metadata": {},
     "output_type": "execute_result"
    }
   ],
   "source": [
    "scaler = StandardScaler()\n",
    "full_df[min_max_columns] = scaler.fit_transform(full_df[min_max_columns])\n",
    "full_df.head()"
   ]
  },
  {
   "attachments": {},
   "cell_type": "markdown",
   "metadata": {},
   "source": [
    " Let's create a list with the ideal values, which is the \n",
    "lowest value for `denied`, `waiting_time` and `failed_reschedules` and the highest value for `occupancy`."
   ]
  },
  {
   "cell_type": "code",
   "execution_count": 328,
   "metadata": {},
   "outputs": [
    {
     "name": "stdout",
     "output_type": "stream",
     "text": [
      "[-2.396174818143296, -1.2621613523455562, 3.7563630483641397, -0.9697720739543891]\n"
     ]
    }
   ],
   "source": [
    "ideal_row = [full_df[\"denied\"].min(), full_df[\"waiting_time\"].min(), full_df[\"occupancy\"].max(), full_df[\"failed_reschedules\"].min()]\n",
    "print(ideal_row)"
   ]
  },
  {
   "attachments": {},
   "cell_type": "markdown",
   "metadata": {},
   "source": [
    "The ideal row is the theoretical best we can achieve with our dataset. We can now look through all the points and \n",
    "calculate the euclidean distance. The row with the smallest distance is the row that gets the closest to our theoretical\n",
    "distance."
   ]
  },
  {
   "cell_type": "code",
   "execution_count": 329,
   "metadata": {},
   "outputs": [
    {
     "data": {
      "text/html": [
       "<div>\n",
       "<style scoped>\n",
       "    .dataframe tbody tr th:only-of-type {\n",
       "        vertical-align: middle;\n",
       "    }\n",
       "\n",
       "    .dataframe tbody tr th {\n",
       "        vertical-align: top;\n",
       "    }\n",
       "\n",
       "    .dataframe thead th {\n",
       "        text-align: right;\n",
       "    }\n",
       "</style>\n",
       "<table border=\"1\" class=\"dataframe\">\n",
       "  <thead>\n",
       "    <tr style=\"text-align: right;\">\n",
       "      <th></th>\n",
       "      <th>bed_amount</th>\n",
       "      <th>denied</th>\n",
       "      <th>covid_denied</th>\n",
       "      <th>waiting_time</th>\n",
       "      <th>occupancy</th>\n",
       "      <th>admissioned</th>\n",
       "      <th>failed_reschedules</th>\n",
       "      <th>succesful_reschedules</th>\n",
       "      <th>CARD/INT/OTHER</th>\n",
       "      <th>NEU/NEC</th>\n",
       "      <th>CAPU</th>\n",
       "      <th>CHIR</th>\n",
       "      <th>COV</th>\n",
       "      <th>euclidean_distances</th>\n",
       "    </tr>\n",
       "  </thead>\n",
       "  <tbody>\n",
       "    <tr>\n",
       "      <th>175</th>\n",
       "      <td>28</td>\n",
       "      <td>0.914290</td>\n",
       "      <td>128</td>\n",
       "      <td>-0.347864</td>\n",
       "      <td>0.287250</td>\n",
       "      <td>3568</td>\n",
       "      <td>2.593752</td>\n",
       "      <td>302</td>\n",
       "      <td>4</td>\n",
       "      <td>6</td>\n",
       "      <td>8</td>\n",
       "      <td>5</td>\n",
       "      <td>5</td>\n",
       "      <td>6.043887</td>\n",
       "    </tr>\n",
       "    <tr>\n",
       "      <th>211</th>\n",
       "      <td>28</td>\n",
       "      <td>1.299847</td>\n",
       "      <td>56</td>\n",
       "      <td>0.574936</td>\n",
       "      <td>-1.053612</td>\n",
       "      <td>3388</td>\n",
       "      <td>0.667523</td>\n",
       "      <td>770</td>\n",
       "      <td>4</td>\n",
       "      <td>7</td>\n",
       "      <td>5</td>\n",
       "      <td>6</td>\n",
       "      <td>6</td>\n",
       "      <td>6.546151</td>\n",
       "    </tr>\n",
       "    <tr>\n",
       "      <th>218</th>\n",
       "      <td>28</td>\n",
       "      <td>0.980766</td>\n",
       "      <td>32</td>\n",
       "      <td>-0.343273</td>\n",
       "      <td>-0.997373</td>\n",
       "      <td>3513</td>\n",
       "      <td>0.956457</td>\n",
       "      <td>474</td>\n",
       "      <td>4</td>\n",
       "      <td>7</td>\n",
       "      <td>6</td>\n",
       "      <td>4</td>\n",
       "      <td>7</td>\n",
       "      <td>6.209384</td>\n",
       "    </tr>\n",
       "    <tr>\n",
       "      <th>219</th>\n",
       "      <td>28</td>\n",
       "      <td>0.550893</td>\n",
       "      <td>78</td>\n",
       "      <td>-0.694402</td>\n",
       "      <td>-1.012172</td>\n",
       "      <td>3514</td>\n",
       "      <td>0.378588</td>\n",
       "      <td>373</td>\n",
       "      <td>4</td>\n",
       "      <td>7</td>\n",
       "      <td>6</td>\n",
       "      <td>5</td>\n",
       "      <td>6</td>\n",
       "      <td>5.793493</td>\n",
       "    </tr>\n",
       "    <tr>\n",
       "      <th>227</th>\n",
       "      <td>28</td>\n",
       "      <td>0.453396</td>\n",
       "      <td>131</td>\n",
       "      <td>-0.574355</td>\n",
       "      <td>-1.031412</td>\n",
       "      <td>3550</td>\n",
       "      <td>2.690063</td>\n",
       "      <td>224</td>\n",
       "      <td>4</td>\n",
       "      <td>7</td>\n",
       "      <td>7</td>\n",
       "      <td>5</td>\n",
       "      <td>5</td>\n",
       "      <td>6.701516</td>\n",
       "    </tr>\n",
       "  </tbody>\n",
       "</table>\n",
       "</div>"
      ],
      "text/plain": [
       "     bed_amount    denied  covid_denied  waiting_time  occupancy  admissioned  \\\n",
       "175          28  0.914290           128     -0.347864   0.287250         3568   \n",
       "211          28  1.299847            56      0.574936  -1.053612         3388   \n",
       "218          28  0.980766            32     -0.343273  -0.997373         3513   \n",
       "219          28  0.550893            78     -0.694402  -1.012172         3514   \n",
       "227          28  0.453396           131     -0.574355  -1.031412         3550   \n",
       "\n",
       "     failed_reschedules  succesful_reschedules  CARD/INT/OTHER  NEU/NEC  CAPU  \\\n",
       "175            2.593752                    302               4        6     8   \n",
       "211            0.667523                    770               4        7     5   \n",
       "218            0.956457                    474               4        7     6   \n",
       "219            0.378588                    373               4        7     6   \n",
       "227            2.690063                    224               4        7     7   \n",
       "\n",
       "     CHIR  COV  euclidean_distances  \n",
       "175     5    5             6.043887  \n",
       "211     6    6             6.546151  \n",
       "218     4    7             6.209384  \n",
       "219     5    6             5.793493  \n",
       "227     5    5             6.701516  "
      ]
     },
     "execution_count": 329,
     "metadata": {},
     "output_type": "execute_result"
    }
   ],
   "source": [
    "full_df[\"euclidean_distances\"] = cdist(full_df[min_max_columns], np.array([ideal_row]))\n",
    "full_df.head()"
   ]
  },
  {
   "attachments": {},
   "cell_type": "markdown",
   "metadata": {},
   "source": [
    "Now we can simply select the row with the lowest euclidean distance. The standardized columns will still be standardized\n",
    "but this could be fixed by manually looking up the row corresponding to the other values."
   ]
  },
  {
   "cell_type": "code",
   "execution_count": 330,
   "metadata": {},
   "outputs": [
    {
     "data": {
      "text/html": [
       "<div>\n",
       "<style scoped>\n",
       "    .dataframe tbody tr th:only-of-type {\n",
       "        vertical-align: middle;\n",
       "    }\n",
       "\n",
       "    .dataframe tbody tr th {\n",
       "        vertical-align: top;\n",
       "    }\n",
       "\n",
       "    .dataframe thead th {\n",
       "        text-align: right;\n",
       "    }\n",
       "</style>\n",
       "<table border=\"1\" class=\"dataframe\">\n",
       "  <thead>\n",
       "    <tr style=\"text-align: right;\">\n",
       "      <th></th>\n",
       "      <th>bed_amount</th>\n",
       "      <th>denied</th>\n",
       "      <th>covid_denied</th>\n",
       "      <th>waiting_time</th>\n",
       "      <th>occupancy</th>\n",
       "      <th>admissioned</th>\n",
       "      <th>failed_reschedules</th>\n",
       "      <th>succesful_reschedules</th>\n",
       "      <th>CARD/INT/OTHER</th>\n",
       "      <th>NEU/NEC</th>\n",
       "      <th>CAPU</th>\n",
       "      <th>CHIR</th>\n",
       "      <th>COV</th>\n",
       "      <th>euclidean_distances</th>\n",
       "    </tr>\n",
       "  </thead>\n",
       "  <tbody>\n",
       "    <tr>\n",
       "      <th>784</th>\n",
       "      <td>38</td>\n",
       "      <td>-0.362034</td>\n",
       "      <td>406</td>\n",
       "      <td>-0.722799</td>\n",
       "      <td>2.990824</td>\n",
       "      <td>4317</td>\n",
       "      <td>-0.777149</td>\n",
       "      <td>440</td>\n",
       "      <td>12</td>\n",
       "      <td>6</td>\n",
       "      <td>4</td>\n",
       "      <td>12</td>\n",
       "      <td>5</td>\n",
       "      <td>2.24762</td>\n",
       "    </tr>\n",
       "  </tbody>\n",
       "</table>\n",
       "</div>"
      ],
      "text/plain": [
       "     bed_amount    denied  covid_denied  waiting_time  occupancy  admissioned  \\\n",
       "784          38 -0.362034           406     -0.722799   2.990824         4317   \n",
       "\n",
       "     failed_reschedules  succesful_reschedules  CARD/INT/OTHER  NEU/NEC  CAPU  \\\n",
       "784           -0.777149                    440              12        6     4   \n",
       "\n",
       "     CHIR  COV  euclidean_distances  \n",
       "784    12    5              2.24762  "
      ]
     },
     "execution_count": 330,
     "metadata": {},
     "output_type": "execute_result"
    }
   ],
   "source": [
    "full_df[full_df[\"euclidean_distances\"] == full_df[\"euclidean_distances\"].min()]"
   ]
  }
 ],
 "metadata": {
  "kernelspec": {
   "display_name": "base",
   "language": "python",
   "name": "python3"
  },
  "language_info": {
   "codemirror_mode": {
    "name": "ipython",
    "version": 3
   },
   "file_extension": ".py",
   "mimetype": "text/x-python",
   "name": "python",
   "nbconvert_exporter": "python",
   "pygments_lexer": "ipython3",
   "version": "3.9.13"
  },
  "orig_nbformat": 4,
  "vscode": {
   "interpreter": {
    "hash": "405847a65c082f3d75026a6f4716fe81cb7cbde69b9a173f6c667687b5b7ea5d"
   }
  }
 },
 "nbformat": 4,
 "nbformat_minor": 2
}
