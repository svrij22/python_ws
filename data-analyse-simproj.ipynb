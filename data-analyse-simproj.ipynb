{
 "cells": [
  {
   "cell_type": "code",
   "execution_count": 2,
   "metadata": {},
   "outputs": [
    {
     "data": {
      "text/plain": [
       "'1.5.3'"
      ]
     },
     "execution_count": 2,
     "metadata": {},
     "output_type": "execute_result"
    }
   ],
   "source": [
    "import pandas\n",
    "import numpy as np\n",
    "pandas.__version__"
   ]
  },
  {
   "cell_type": "code",
   "execution_count": 3,
   "metadata": {},
   "outputs": [
    {
     "data": {
      "text/html": [
       "<div>\n",
       "<style scoped>\n",
       "    .dataframe tbody tr th:only-of-type {\n",
       "        vertical-align: middle;\n",
       "    }\n",
       "\n",
       "    .dataframe tbody tr th {\n",
       "        vertical-align: top;\n",
       "    }\n",
       "\n",
       "    .dataframe thead th {\n",
       "        text-align: right;\n",
       "    }\n",
       "</style>\n",
       "<table border=\"1\" class=\"dataframe\">\n",
       "  <thead>\n",
       "    <tr style=\"text-align: right;\">\n",
       "      <th></th>\n",
       "      <th>Unnamed: 0</th>\n",
       "      <th>adm_icu</th>\n",
       "      <th>adm_time_icu</th>\n",
       "      <th>dis_date_icu</th>\n",
       "      <th>dis_time_icu</th>\n",
       "      <th>plan_adm</th>\n",
       "      <th>ref_spec</th>\n",
       "    </tr>\n",
       "  </thead>\n",
       "  <tbody>\n",
       "    <tr>\n",
       "      <th>0</th>\n",
       "      <td>1</td>\n",
       "      <td>2015-01-01 07:36:00</td>\n",
       "      <td>0.316667</td>\n",
       "      <td>2015-01-02 16:43:00</td>\n",
       "      <td>0.696528</td>\n",
       "      <td>0.0</td>\n",
       "      <td>12</td>\n",
       "    </tr>\n",
       "    <tr>\n",
       "      <th>1</th>\n",
       "      <td>2</td>\n",
       "      <td>2015-01-01 14:23:59</td>\n",
       "      <td>0.600000</td>\n",
       "      <td>2015-01-01 19:47:00</td>\n",
       "      <td>0.824306</td>\n",
       "      <td>0.0</td>\n",
       "      <td>41</td>\n",
       "    </tr>\n",
       "    <tr>\n",
       "      <th>2</th>\n",
       "      <td>3</td>\n",
       "      <td>2015-01-01 20:30:59</td>\n",
       "      <td>0.854861</td>\n",
       "      <td>2015-01-02 19:09:59</td>\n",
       "      <td>0.798611</td>\n",
       "      <td>0.0</td>\n",
       "      <td>7</td>\n",
       "    </tr>\n",
       "    <tr>\n",
       "      <th>3</th>\n",
       "      <td>4</td>\n",
       "      <td>2015-01-02 12:56:00</td>\n",
       "      <td>0.538889</td>\n",
       "      <td>2015-01-03 11:32:00</td>\n",
       "      <td>0.480556</td>\n",
       "      <td>1.0</td>\n",
       "      <td>29</td>\n",
       "    </tr>\n",
       "    <tr>\n",
       "      <th>4</th>\n",
       "      <td>5</td>\n",
       "      <td>2015-01-02 13:12:00</td>\n",
       "      <td>0.550000</td>\n",
       "      <td>2015-01-03 10:02:59</td>\n",
       "      <td>0.418750</td>\n",
       "      <td>0.0</td>\n",
       "      <td>12</td>\n",
       "    </tr>\n",
       "  </tbody>\n",
       "</table>\n",
       "</div>"
      ],
      "text/plain": [
       "   Unnamed: 0              adm_icu  adm_time_icu         dis_date_icu  \\\n",
       "0           1  2015-01-01 07:36:00      0.316667  2015-01-02 16:43:00   \n",
       "1           2  2015-01-01 14:23:59      0.600000  2015-01-01 19:47:00   \n",
       "2           3  2015-01-01 20:30:59      0.854861  2015-01-02 19:09:59   \n",
       "3           4  2015-01-02 12:56:00      0.538889  2015-01-03 11:32:00   \n",
       "4           5  2015-01-02 13:12:00      0.550000  2015-01-03 10:02:59   \n",
       "\n",
       "   dis_time_icu  plan_adm  ref_spec  \n",
       "0      0.696528       0.0        12  \n",
       "1      0.824306       0.0        41  \n",
       "2      0.798611       0.0         7  \n",
       "3      0.480556       1.0        29  \n",
       "4      0.418750       0.0        12  "
      ]
     },
     "execution_count": 3,
     "metadata": {},
     "output_type": "execute_result"
    }
   ],
   "source": [
    "csv_data = pandas.read_csv('data/admissions.csv')\n",
    "csv_data.head()"
   ]
  },
  {
   "cell_type": "code",
   "execution_count": 4,
   "metadata": {},
   "outputs": [
    {
     "data": {
      "text/plain": [
       "50    999\n",
       "2     825\n",
       "9     562\n",
       "21    501\n",
       "29    478\n",
       "Name: ref_spec, dtype: int64"
      ]
     },
     "execution_count": 4,
     "metadata": {},
     "output_type": "execute_result"
    }
   ],
   "source": [
    "# value counts\n",
    "\n",
    "all_specialisms = csv_data['ref_spec']\n",
    "unique_spec = all_specialisms.value_counts()\n",
    "unique_spec.head()"
   ]
  },
  {
   "cell_type": "code",
   "execution_count": 4,
   "metadata": {},
   "outputs": [
    {
     "data": {
      "text/html": [
       "<div>\n",
       "<style scoped>\n",
       "    .dataframe tbody tr th:only-of-type {\n",
       "        vertical-align: middle;\n",
       "    }\n",
       "\n",
       "    .dataframe tbody tr th {\n",
       "        vertical-align: top;\n",
       "    }\n",
       "\n",
       "    .dataframe thead th {\n",
       "        text-align: right;\n",
       "    }\n",
       "</style>\n",
       "<table border=\"1\" class=\"dataframe\">\n",
       "  <thead>\n",
       "    <tr style=\"text-align: right;\">\n",
       "      <th></th>\n",
       "      <th>Unnamed: 0</th>\n",
       "      <th>adm_icu</th>\n",
       "      <th>adm_time_icu</th>\n",
       "      <th>dis_date_icu</th>\n",
       "      <th>dis_time_icu</th>\n",
       "      <th>plan_adm</th>\n",
       "      <th>ref_spec</th>\n",
       "    </tr>\n",
       "  </thead>\n",
       "  <tbody>\n",
       "    <tr>\n",
       "      <th>0</th>\n",
       "      <td>1</td>\n",
       "      <td>2015-01-01 07:36:00</td>\n",
       "      <td>0.316667</td>\n",
       "      <td>2015-01-02 16:43:00</td>\n",
       "      <td>0.696528</td>\n",
       "      <td>0.0</td>\n",
       "      <td>NEC</td>\n",
       "    </tr>\n",
       "    <tr>\n",
       "      <th>1</th>\n",
       "      <td>2</td>\n",
       "      <td>2015-01-01 14:23:59</td>\n",
       "      <td>0.600000</td>\n",
       "      <td>2015-01-01 19:47:00</td>\n",
       "      <td>0.824306</td>\n",
       "      <td>0.0</td>\n",
       "      <td>INT</td>\n",
       "    </tr>\n",
       "    <tr>\n",
       "      <th>2</th>\n",
       "      <td>3</td>\n",
       "      <td>2015-01-01 20:30:59</td>\n",
       "      <td>0.854861</td>\n",
       "      <td>2015-01-02 19:09:59</td>\n",
       "      <td>0.798611</td>\n",
       "      <td>0.0</td>\n",
       "      <td>INT</td>\n",
       "    </tr>\n",
       "    <tr>\n",
       "      <th>3</th>\n",
       "      <td>4</td>\n",
       "      <td>2015-01-02 12:56:00</td>\n",
       "      <td>0.538889</td>\n",
       "      <td>2015-01-03 11:32:00</td>\n",
       "      <td>0.480556</td>\n",
       "      <td>1.0</td>\n",
       "      <td>NAPU</td>\n",
       "    </tr>\n",
       "    <tr>\n",
       "      <th>4</th>\n",
       "      <td>5</td>\n",
       "      <td>2015-01-02 13:12:00</td>\n",
       "      <td>0.550000</td>\n",
       "      <td>2015-01-03 10:02:59</td>\n",
       "      <td>0.418750</td>\n",
       "      <td>0.0</td>\n",
       "      <td>NEC</td>\n",
       "    </tr>\n",
       "  </tbody>\n",
       "</table>\n",
       "</div>"
      ],
      "text/plain": [
       "   Unnamed: 0              adm_icu  adm_time_icu         dis_date_icu  \\\n",
       "0           1  2015-01-01 07:36:00      0.316667  2015-01-02 16:43:00   \n",
       "1           2  2015-01-01 14:23:59      0.600000  2015-01-01 19:47:00   \n",
       "2           3  2015-01-01 20:30:59      0.854861  2015-01-02 19:09:59   \n",
       "3           4  2015-01-02 12:56:00      0.538889  2015-01-03 11:32:00   \n",
       "4           5  2015-01-02 13:12:00      0.550000  2015-01-03 10:02:59   \n",
       "\n",
       "   dis_time_icu  plan_adm ref_spec  \n",
       "0      0.696528       0.0      NEC  \n",
       "1      0.824306       0.0      INT  \n",
       "2      0.798611       0.0      INT  \n",
       "3      0.480556       1.0     NAPU  \n",
       "4      0.418750       0.0      NEC  "
      ]
     },
     "execution_count": 4,
     "metadata": {},
     "output_type": "execute_result"
    }
   ],
   "source": [
    "csv_data['ref_spec'] = csv_data['ref_spec'].map(\n",
    "    {\n",
    "        12:'NEC',\n",
    "        2:'INT',\n",
    "        4:'INT',\n",
    "        7:'INT',\n",
    "        41:'INT',\n",
    "        47:'INT',\n",
    "        3:'CARD',\n",
    "        9:'CHIR',\n",
    "        10:'CHIR',\n",
    "        11:'CHIR',\n",
    "        13:'CHIR',\n",
    "        39:'CHIR',\n",
    "        15:'OTHER',\n",
    "        18:'OTHER',\n",
    "        19:'OTHER',\n",
    "        20:'OTHER',\n",
    "        23:'OTHER',\n",
    "        36:'OTHER',\n",
    "        48:'OTHER',\n",
    "        98:'OTHER',\n",
    "        21:'NEU',\n",
    "        29:'NAPU',\n",
    "        50:'CAPU',\n",
    "    }\n",
    ")\n",
    "\n",
    "csv_data.head()"
   ]
  },
  {
   "cell_type": "code",
   "execution_count": 5,
   "metadata": {},
   "outputs": [
    {
     "name": "stdout",
     "output_type": "stream",
     "text": [
      "INT      1134\n",
      "CAPU      999\n",
      "CHIR      637\n",
      "NEU       501\n",
      "NAPU      478\n",
      "NEC       379\n",
      "CARD      349\n",
      "OTHER      58\n",
      "Name: ref_spec, dtype: int64\n"
     ]
    }
   ],
   "source": [
    "# value counts\n",
    "\n",
    "all_specialisms = csv_data['ref_spec']\n",
    "unique_spec = all_specialisms.value_counts()\n",
    "print(unique_spec)"
   ]
  }
 ],
 "metadata": {
  "kernelspec": {
   "display_name": "Python 3",
   "language": "python",
   "name": "python3"
  },
  "language_info": {
   "codemirror_mode": {
    "name": "ipython",
    "version": 3
   },
   "file_extension": ".py",
   "mimetype": "text/x-python",
   "name": "python",
   "nbconvert_exporter": "python",
   "pygments_lexer": "ipython3",
   "version": "3.10.2"
  },
  "orig_nbformat": 4,
  "vscode": {
   "interpreter": {
    "hash": "369f2c481f4da34e4445cda3fffd2e751bd1c4d706f27375911949ba6bb62e1c"
   }
  }
 },
 "nbformat": 4,
 "nbformat_minor": 2
}
